{
 "cells": [
  {
   "cell_type": "code",
   "execution_count": 6,
   "id": "f5537b3f",
   "metadata": {},
   "outputs": [
    {
     "name": "stderr",
     "output_type": "stream",
     "text": [
      "[nltk_data] Downloading package stopwords to\n",
      "[nltk_data]     /Users/a19391676/nltk_data...\n",
      "[nltk_data]   Package stopwords is already up-to-date!\n",
      "[nltk_data] Downloading package wordnet to\n",
      "[nltk_data]     /Users/a19391676/nltk_data...\n",
      "[nltk_data]   Package wordnet is already up-to-date!\n"
     ]
    }
   ],
   "source": [
    "import os\n",
    "import sys\n",
    "sys.path.append('../')\n",
    "import string\n",
    "import pickle as pkl\n",
    "import warnings\n",
    "import multiprocessing\n",
    "\n",
    "from time import time\n",
    "from collections import Counter\n",
    "from tqdm.notebook import tqdm\n",
    "tqdm.pandas()\n",
    "\n",
    "import pandas as pd\n",
    "import numpy as np\n",
    "import seaborn as sns\n",
    "import matplotlib.pyplot as plt\n",
    "import gensim.parsing.preprocessing as gsp\n",
    "\n",
    "from sklearn.metrics import classification_report, plot_precision_recall_curve, roc_auc_score\n",
    "from sklearn.model_selection import train_test_split, RandomizedSearchCV, GridSearchCV, StratifiedKFold\n",
    "from sklearn.linear_model import LogisticRegression\n",
    "from sklearn.feature_extraction.text import TfidfVectorizer\n",
    "from sklearn.pipeline import Pipeline\n",
    "from xgboost import XGBClassifier\n",
    "from fasttext import train_supervised\n",
    "from gensim.models import Word2Vec\n",
    "\n",
    "from utils.text_preprocessing import preprocessing, replace_repetitions\n",
    "\n",
    "\n",
    "%matplotlib inline\n",
    "sns.set_style(\"whitegrid\")\n",
    "plt.style.use(\"fivethirtyeight\")\n",
    "warnings.simplefilter(\"ignore\")\n",
    "\n",
    "pd.set_option('display.max_columns', 50)\n",
    "pd.set_option('display.max_rows', 50)"
   ]
  },
  {
   "cell_type": "code",
   "execution_count": 8,
   "id": "e89a9c5c",
   "metadata": {},
   "outputs": [
    {
     "data": {
      "text/plain": [
       "['jigsaw-toxic-comment-train.csv',\n",
       " 'validation.csv',\n",
       " '.DS_Store',\n",
       " 'jigsaw-toxic-comment-train_lang.csv',\n",
       " 'test_labels.csv',\n",
       " 'test.csv',\n",
       " 'jigsaw-unintended-bias-train.csv',\n",
       " 'sample_submission.csv']"
      ]
     },
     "execution_count": 8,
     "metadata": {},
     "output_type": "execute_result"
    }
   ],
   "source": [
    "DATA_PATH = '../data/'\n",
    "MODEL_PATH = '../models/'\n",
    "\n",
    "os.listdir(DATA_PATH)"
   ]
  },
  {
   "cell_type": "markdown",
   "id": "4433f13b",
   "metadata": {},
   "source": [
    "# Preprocessing"
   ]
  },
  {
   "cell_type": "markdown",
   "id": "764c9ed4",
   "metadata": {},
   "source": [
    "## Train data"
   ]
  },
  {
   "cell_type": "code",
   "execution_count": 9,
   "id": "6c696657",
   "metadata": {},
   "outputs": [],
   "source": [
    "train = pd.read_csv(DATA_PATH + 'jigsaw-toxic-comment-train.csv')\n",
    "train.drop('id', axis=1, inplace=True)"
   ]
  },
  {
   "cell_type": "code",
   "execution_count": 10,
   "id": "f16670ec-55eb-4ac8-954f-e68d0fcd6bb1",
   "metadata": {},
   "outputs": [
    {
     "data": {
      "application/vnd.jupyter.widget-view+json": {
       "model_id": "49b8e45b5e384e83aef80596ce50327e",
       "version_major": 2,
       "version_minor": 0
      },
      "text/plain": [
       "  0%|          | 0/223549 [00:00<?, ?it/s]"
      ]
     },
     "metadata": {},
     "output_type": "display_data"
    }
   ],
   "source": [
    "# Предобработаем текст\n",
    "train['text'] = train['comment_text'].progress_apply(preprocessing)\n",
    "# удалим пустые тексты\n",
    "train = train[train['text'] != '']"
   ]
  },
  {
   "cell_type": "code",
   "execution_count": 11,
   "id": "d46e9f35",
   "metadata": {},
   "outputs": [],
   "source": [
    "train['target'] = train[['toxic', 'severe_toxic', 'obscene', 'threat', 'insult', 'identity_hate']].max(axis=1)"
   ]
  },
  {
   "cell_type": "code",
   "execution_count": 12,
   "id": "fe3b79e5",
   "metadata": {},
   "outputs": [],
   "source": [
    "train = train.drop_duplicates(subset=['text', 'target'])"
   ]
  },
  {
   "cell_type": "markdown",
   "id": "5d4a2062",
   "metadata": {},
   "source": [
    "## Train bias data"
   ]
  },
  {
   "cell_type": "code",
   "execution_count": 17,
   "id": "035019b1",
   "metadata": {},
   "outputs": [],
   "source": [
    "train_bias = pd.read_csv(DATA_PATH + 'jigsaw-unintended-bias-train.csv')\n",
    "train_bias.drop('id', axis=1, inplace=True)"
   ]
  },
  {
   "cell_type": "code",
   "execution_count": 18,
   "id": "818e9800",
   "metadata": {},
   "outputs": [],
   "source": [
    "base_columns = [\"comment_text\", \"toxic\", \"severe_toxic\", \"obscene\", \"threat\", \"insult\", \"identity_hate\"]\n",
    "intended_columns = [\"comment_text\", \"toxicity\", \"severe_toxicity\", \"obscene\", \"threat\", \"insult\", \"identity_attack\"]\n",
    "\n",
    "# переименуем колонки и удалим лишние\n",
    "train_bias = train_bias.rename(columns = {x: y for x, y in zip(intended_columns, base_columns)})\n",
    "train_bias = train_bias[base_columns]"
   ]
  },
  {
   "cell_type": "code",
   "execution_count": 19,
   "id": "62645c83",
   "metadata": {},
   "outputs": [],
   "source": [
    "train_bias['target'] = train_bias[['toxic', 'severe_toxic', 'obscene', 'threat', 'insult', 'identity_hate']].sum(axis=1)\n",
    "train_bias['target'] = (train_bias['target'] > 0.5).astype(int)"
   ]
  },
  {
   "cell_type": "code",
   "execution_count": 20,
   "id": "bb1baee0",
   "metadata": {},
   "outputs": [],
   "source": [
    "train_bias = train_bias.drop_duplicates(subset=['comment_text', 'target'])"
   ]
  },
  {
   "cell_type": "code",
   "execution_count": 21,
   "id": "31f08962",
   "metadata": {},
   "outputs": [],
   "source": [
    "# Возьмем небольшую часть для обучения\n",
    "train_bias = pd.concat([\n",
    "    train_bias[['comment_text', 'target']].query('target == 1'),\n",
    "    train_bias[['comment_text', 'target']].query('target == 0').sample(n=100000),\n",
    "    train_bias[['comment_text', 'target']].sample(n=100000)\n",
    "]).drop_duplicates()"
   ]
  },
  {
   "cell_type": "code",
   "execution_count": 22,
   "id": "84e113a8-e736-41c1-8c88-c3594edb32a8",
   "metadata": {},
   "outputs": [
    {
     "data": {
      "application/vnd.jupyter.widget-view+json": {
       "model_id": "6eb57fd207d14e67a81f0c9dae5c39cf",
       "version_major": 2,
       "version_minor": 0
      },
      "text/plain": [
       "  0%|          | 0/476166 [00:00<?, ?it/s]"
      ]
     },
     "metadata": {},
     "output_type": "display_data"
    }
   ],
   "source": [
    "# Предобработаем текст\n",
    "train_bias['text'] = train_bias['comment_text'].progress_apply(preprocessing)\n",
    "# удалим пустые тексты\n",
    "train_bias = train_bias[train_bias['text'] != '']"
   ]
  },
  {
   "cell_type": "markdown",
   "id": "50cb4d94",
   "metadata": {},
   "source": [
    "# Models"
   ]
  },
  {
   "cell_type": "markdown",
   "id": "3c8d69b3",
   "metadata": {},
   "source": [
    "## Split train-valid-test"
   ]
  },
  {
   "cell_type": "code",
   "execution_count": 25,
   "id": "38a5980e",
   "metadata": {},
   "outputs": [],
   "source": [
    "dataset = pd.concat([train[['text', 'target']], train_bias[['text', 'target']]])"
   ]
  },
  {
   "cell_type": "code",
   "execution_count": 26,
   "id": "1fc976e0-266a-4709-801d-d7bcf5a6905f",
   "metadata": {},
   "outputs": [
    {
     "data": {
      "application/vnd.jupyter.widget-view+json": {
       "model_id": "16e58f45ed644176841351439e39e501",
       "version_major": 2,
       "version_minor": 0
      },
      "text/plain": [
       "  0%|          | 0/695413 [00:00<?, ?it/s]"
      ]
     },
     "metadata": {},
     "output_type": "display_data"
    }
   ],
   "source": [
    "# Посчитаем частоту встречаемости слов\n",
    "vocab = Counter(' '.join(dataset['text']).split())\n",
    "# Преобразуем слова, где есть множественное повторение букв аааавто => авто\n",
    "dataset['text'] = dataset['text'].progress_apply(lambda x: replace_repetitions(x, vocab))"
   ]
  },
  {
   "cell_type": "code",
   "execution_count": 28,
   "id": "c441aa43",
   "metadata": {},
   "outputs": [],
   "source": [
    "train, test = train_test_split(dataset, test_size=0.2, shuffle=True)\n",
    "train, valid = train_test_split(train, test_size=test.shape[0], shuffle=True)"
   ]
  },
  {
   "cell_type": "code",
   "execution_count": 29,
   "id": "e0e8dbf2",
   "metadata": {},
   "outputs": [],
   "source": [
    "X_train, y_train = train['text'], train['target']\n",
    "X_valid, y_valid = valid['text'], valid['target']\n",
    "X_test, y_test = test['text'], test['target']"
   ]
  },
  {
   "cell_type": "code",
   "execution_count": 30,
   "id": "68e2f7da",
   "metadata": {},
   "outputs": [],
   "source": [
    "def get_score(x, y, model):\n",
    "    \"\"\"\n",
    "    Функция подсчета различных метрик для сравнения моделей\n",
    "    \"\"\"\n",
    "    # посчитаем стандартные метрики для бинарной классификации\n",
    "    pred = model.predict(x)\n",
    "    print(classification_report(y, pred))\n",
    "    # построим кривую precission-recall для наглядной зависимости\n",
    "    plot_precision_recall_curve(model, x, y)\n",
    "    # посчитаем рок аук метрику\n",
    "    pred = model.predict_proba(x)\n",
    "    roc_auc = roc_auc_score(y, pred[:, 1])\n",
    "    \n",
    "    return roc_auc"
   ]
  },
  {
   "cell_type": "code",
   "execution_count": 31,
   "id": "f691bdac",
   "metadata": {},
   "outputs": [],
   "source": [
    "models = {}"
   ]
  },
  {
   "cell_type": "markdown",
   "id": "fb848aeb",
   "metadata": {},
   "source": [
    "## Tfidf + LogReg"
   ]
  },
  {
   "cell_type": "code",
   "execution_count": 21,
   "id": "69e2de45",
   "metadata": {},
   "outputs": [
    {
     "data": {
      "text/plain": [
       "Pipeline(steps=[('tfidf',\n",
       "                 TfidfVectorizer(max_features=10000, smooth_idf=1,\n",
       "                                 sublinear_tf=1, use_idf=1)),\n",
       "                ('log',\n",
       "                 LogisticRegression(C=4.281332398719396, penalty='l1',\n",
       "                                    solver='liblinear'))])"
      ]
     },
     "execution_count": 21,
     "metadata": {},
     "output_type": "execute_result"
    }
   ],
   "source": [
    "tfidf = TfidfVectorizer(\n",
    "    max_features=10000, \n",
    "    smooth_idf=1,\n",
    "    sublinear_tf=1,\n",
    "    use_idf=1\n",
    ")\n",
    "\n",
    "log_model = LogisticRegression(\n",
    "    C=4.281332398719396, \n",
    "    penalty='l1',\n",
    "    solver='liblinear'\n",
    ")\n",
    "\n",
    "log_pipeline = Pipeline([\n",
    "    ('tfidf', tfidf),\n",
    "    ('log', log_model),\n",
    "])\n",
    "log_pipeline.fit(X_train, y_train)"
   ]
  },
  {
   "cell_type": "code",
   "execution_count": 24,
   "id": "37da532d",
   "metadata": {},
   "outputs": [
    {
     "name": "stdout",
     "output_type": "stream",
     "text": [
      "              precision    recall  f1-score   support\n",
      "\n",
      "           0       0.86      0.88      0.87     74954\n",
      "           1       0.85      0.83      0.84     64123\n",
      "\n",
      "    accuracy                           0.85    139077\n",
      "   macro avg       0.85      0.85      0.85    139077\n",
      "weighted avg       0.85      0.85      0.85    139077\n",
      "\n"
     ]
    },
    {
     "data": {
      "image/png": "[encoded data removed]",
      "text/plain": [
       "<Figure size 432x288 with 1 Axes>"
      ]
     },
     "metadata": {},
     "output_type": "display_data"
    }
   ],
   "source": [
    "models['log_model'] = get_score(X_test, y_test, log_pipeline)"
   ]
  },
  {
   "cell_type": "markdown",
   "id": "59169f53",
   "metadata": {},
   "source": [
    "## TfIdf + Xgboost"
   ]
  },
  {
   "cell_type": "code",
   "execution_count": 25,
   "id": "80c163c4",
   "metadata": {},
   "outputs": [],
   "source": [
    "xgb_params = {\n",
    "    'n_estimators': 1000,\n",
    "    'eta': 0.03, \n",
    "    'max_depth': 9, \n",
    "    'objective': 'binary:logistic', \n",
    "    'eval_metric': 'auc',\n",
    "    'seed': 23\n",
    "}\n",
    "xgb_model = XGBClassifier(**xgb_params)\n",
    "\n",
    "pipeline = Pipeline([\n",
    "    ('tfidf', tfidf),\n",
    "    ('xgbclf', xgb_model),\n",
    "])"
   ]
  },
  {
   "cell_type": "code",
   "execution_count": 26,
   "id": "1e1fb708",
   "metadata": {
    "scrolled": true
   },
   "outputs": [
    {
     "name": "stdout",
     "output_type": "stream",
     "text": [
      "[0]\tvalidation_0-auc:0.66410\n",
      "[50]\tvalidation_0-auc:0.79819\n",
      "[100]\tvalidation_0-auc:0.83135\n",
      "[150]\tvalidation_0-auc:0.84947\n",
      "[200]\tvalidation_0-auc:0.86246\n",
      "[250]\tvalidation_0-auc:0.87082\n",
      "[300]\tvalidation_0-auc:0.87677\n",
      "[350]\tvalidation_0-auc:0.88188\n",
      "[400]\tvalidation_0-auc:0.88545\n",
      "[450]\tvalidation_0-auc:0.88915\n",
      "[500]\tvalidation_0-auc:0.89199\n",
      "[550]\tvalidation_0-auc:0.89455\n",
      "[600]\tvalidation_0-auc:0.89699\n",
      "[650]\tvalidation_0-auc:0.89885\n",
      "[700]\tvalidation_0-auc:0.90084\n",
      "[750]\tvalidation_0-auc:0.90250\n",
      "[800]\tvalidation_0-auc:0.90392\n",
      "[850]\tvalidation_0-auc:0.90524\n",
      "[900]\tvalidation_0-auc:0.90643\n",
      "[950]\tvalidation_0-auc:0.90752\n",
      "[999]\tvalidation_0-auc:0.90841\n"
     ]
    },
    {
     "data": {
      "text/plain": [
       "0.8265565118603364"
      ]
     },
     "execution_count": 26,
     "metadata": {},
     "output_type": "execute_result"
    }
   ],
   "source": [
    "X_train_transformed = pipeline[:-1].fit_transform(X_train)\n",
    "x_valid_transformed = pipeline[:-1].transform(X_valid)\n",
    "\n",
    "pipeline[-1].fit(\n",
    "    X=X_train_transformed,\n",
    "    y=y_train,\n",
    "    eval_set=[(x_valid_transformed, y_valid)],\n",
    "    early_stopping_rounds=30,\n",
    "    verbose=50\n",
    ")\n",
    "\n",
    "pipeline.score(X_test, y_test)"
   ]
  },
  {
   "cell_type": "code",
   "execution_count": 27,
   "id": "dcba42b4",
   "metadata": {},
   "outputs": [
    {
     "name": "stdout",
     "output_type": "stream",
     "text": [
      "              precision    recall  f1-score   support\n",
      "\n",
      "           0       0.80      0.90      0.85     74954\n",
      "           1       0.86      0.74      0.80     64123\n",
      "\n",
      "    accuracy                           0.83    139077\n",
      "   macro avg       0.83      0.82      0.82    139077\n",
      "weighted avg       0.83      0.83      0.83    139077\n",
      "\n"
     ]
    },
    {
     "data": {
      "image/png": "[encoded data removed]",
      "text/plain": [
       "<Figure size 432x288 with 1 Axes>"
      ]
     },
     "metadata": {},
     "output_type": "display_data"
    }
   ],
   "source": [
    "models['xgb_model'] = get_score(X_test, y_test, pipeline)"
   ]
  },
  {
   "cell_type": "markdown",
   "id": "0f8379a3",
   "metadata": {},
   "source": [
    "# Fasttext"
   ]
  },
  {
   "cell_type": "code",
   "execution_count": 29,
   "id": "6fff140f",
   "metadata": {},
   "outputs": [],
   "source": [
    "train_fasttext = train\n",
    "train_fasttext.target = train_fasttext.target.apply(lambda x: f'__class__{x}')\n",
    "train_fasttext.to_csv(DATA_PATH + 'train_fasttext.csv', index=False, sep='\\t')\n",
    "\n",
    "test_fasttext = test\n",
    "test_fasttext.target = test_fasttext.target.apply(lambda x: f'__class__{x}')\n",
    "test_fasttext.to_csv(DATA_PATH + 'test_fasttext.csv', index=False, sep='\\t')"
   ]
  },
  {
   "cell_type": "code",
   "execution_count": 30,
   "id": "d76aebf8",
   "metadata": {},
   "outputs": [],
   "source": [
    "model = train_supervised(\n",
    "    input='train_fasttext.csv', \n",
    "    label=\"__class__\", \n",
    "    lr=1.0, \n",
    "    epoch=25, \n",
    "    loss='hs', \n",
    "    wordNgrams=2,\n",
    "    verbose=5\n",
    ")"
   ]
  },
  {
   "cell_type": "code",
   "execution_count": 31,
   "id": "6df68aa3",
   "metadata": {},
   "outputs": [
    {
     "name": "stdout",
     "output_type": "stream",
     "text": [
      "              precision    recall  f1-score   support\n",
      "\n",
      "           0       0.56      0.78      0.65     74954\n",
      "           1       0.52      0.28      0.36     64123\n",
      "\n",
      "    accuracy                           0.55    139077\n",
      "   macro avg       0.54      0.53      0.51    139077\n",
      "weighted avg       0.54      0.55      0.52    139077\n",
      "\n"
     ]
    },
    {
     "data": {
      "text/plain": [
       "0.5684943738289889"
      ]
     },
     "execution_count": 31,
     "metadata": {},
     "output_type": "execute_result"
    }
   ],
   "source": [
    "pred = X_test.apply(lambda x: model.predict(x, k=2)[1][1])\n",
    "print(classification_report(y_test, (pred > 0.01).astype(int)))\n",
    "roc_auc = roc_auc_score(y_test, pred)\n",
    "roc_auc"
   ]
  },
  {
   "cell_type": "code",
   "execution_count": 32,
   "id": "0ebba71d",
   "metadata": {},
   "outputs": [],
   "source": [
    "models['fasttext_model'] = roc_auc"
   ]
  },
  {
   "cell_type": "markdown",
   "id": "978d6bcc",
   "metadata": {},
   "source": [
    "# Gensim word2vec + "
   ]
  },
  {
   "cell_type": "code",
   "execution_count": 63,
   "id": "88311185",
   "metadata": {},
   "outputs": [
    {
     "name": "stdout",
     "output_type": "stream",
     "text": [
      "Time to build vocab: 0.04 mins\n",
      "Time to train the model: 7.18 mins\n",
      "Wall time: 7min 10s\n"
     ]
    }
   ],
   "source": [
    "%%time\n",
    "\n",
    "cores = multiprocessing.cpu_count() # Count the number of cores in a computer, important for a parameter of the model\n",
    "w2v_model = Word2Vec(\n",
    "    min_count=20,\n",
    "    window=2,\n",
    "    vector_size=300,\n",
    "    sample=6e-5, \n",
    "    alpha=0.03, \n",
    "    min_alpha=0.0007, \n",
    "    negative=20,\n",
    "    workers=cores-1,\n",
    "    sg=1\n",
    ")\n",
    "\n",
    "#BUILD_VOCAB()\n",
    "t = time()\n",
    "w2v_model.build_vocab(train_txt, progress_per=1000)\n",
    "print('Time to build vocab: {} mins'.format(round((time() - t) / 60, 2)))\n",
    "\n",
    "#TRAIN()\n",
    "w2v_model.train(train_txt, total_examples=w2v_model.corpus_count, epochs=20)\n",
    "print('Time to train the model: {} mins'.format(round((time() - t) / 60, 2)))\n",
    "# model_skipgram = word2vec.Word2Vec(sentences=train_txt, sg=1, min_count=10, workers=4, window =10, epochs = 20)"
   ]
  },
  {
   "cell_type": "code",
   "execution_count": 74,
   "id": "e4763a21",
   "metadata": {
    "scrolled": true
   },
   "outputs": [
    {
     "data": {
      "text/html": [
       "<div>\n",
       "<style scoped>\n",
       "    .dataframe tbody tr th:only-of-type {\n",
       "        vertical-align: middle;\n",
       "    }\n",
       "\n",
       "    .dataframe tbody tr th {\n",
       "        vertical-align: top;\n",
       "    }\n",
       "\n",
       "    .dataframe thead th {\n",
       "        text-align: right;\n",
       "    }\n",
       "</style>\n",
       "<table border=\"1\" class=\"dataframe\">\n",
       "  <thead>\n",
       "    <tr style=\"text-align: right;\">\n",
       "      <th></th>\n",
       "      <th>text</th>\n",
       "      <th>target</th>\n",
       "    </tr>\n",
       "  </thead>\n",
       "  <tbody>\n",
       "    <tr>\n",
       "      <th>121201</th>\n",
       "      <td>utc britain briton expect fan liter iio ii apr...</td>\n",
       "      <td>__class__0</td>\n",
       "    </tr>\n",
       "    <tr>\n",
       "      <th>163241</th>\n",
       "      <td>feel sorri anonym troll great stori anger see ...</td>\n",
       "      <td>__class__1</td>\n",
       "    </tr>\n",
       "    <tr>\n",
       "      <th>50445</th>\n",
       "      <td>style background color fsfffa pad cellpad styl...</td>\n",
       "      <td>__class__0</td>\n",
       "    </tr>\n",
       "    <tr>\n",
       "      <th>1280502</th>\n",
       "      <td>font general avail design specif microsoft dif...</td>\n",
       "      <td>__class__0</td>\n",
       "    </tr>\n",
       "    <tr>\n",
       "      <th>460979</th>\n",
       "      <td>tie terror state inclin admiss suspect badg go...</td>\n",
       "      <td>__class__0</td>\n",
       "    </tr>\n",
       "    <tr>\n",
       "      <th>...</th>\n",
       "      <td>...</td>\n",
       "      <td>...</td>\n",
       "    </tr>\n",
       "    <tr>\n",
       "      <th>1812328</th>\n",
       "      <td>realiz requir use cmhc unless right see govern...</td>\n",
       "      <td>__class__0</td>\n",
       "    </tr>\n",
       "    <tr>\n",
       "      <th>28091</th>\n",
       "      <td>mayor year alreadi notic</td>\n",
       "      <td>__class__0</td>\n",
       "    </tr>\n",
       "    <tr>\n",
       "      <th>203154</th>\n",
       "      <td>richard watch step someon make defamatori clai...</td>\n",
       "      <td>__class__0</td>\n",
       "    </tr>\n",
       "    <tr>\n",
       "      <th>718369</th>\n",
       "      <td>alreadi happen canada exampl visit richmond bc...</td>\n",
       "      <td>__class__0</td>\n",
       "    </tr>\n",
       "    <tr>\n",
       "      <th>87521</th>\n",
       "      <td>pleas read polici guidelin present way link ap...</td>\n",
       "      <td>__class__0</td>\n",
       "    </tr>\n",
       "  </tbody>\n",
       "</table>\n",
       "<p>417227 rows × 2 columns</p>\n",
       "</div>"
      ],
      "text/plain": [
       "                                                      text      target\n",
       "121201   utc britain briton expect fan liter iio ii apr...  __class__0\n",
       "163241   feel sorri anonym troll great stori anger see ...  __class__1\n",
       "50445    style background color fsfffa pad cellpad styl...  __class__0\n",
       "1280502  font general avail design specif microsoft dif...  __class__0\n",
       "460979   tie terror state inclin admiss suspect badg go...  __class__0\n",
       "...                                                    ...         ...\n",
       "1812328  realiz requir use cmhc unless right see govern...  __class__0\n",
       "28091                             mayor year alreadi notic  __class__0\n",
       "203154   richard watch step someon make defamatori clai...  __class__0\n",
       "718369   alreadi happen canada exampl visit richmond bc...  __class__0\n",
       "87521    pleas read polici guidelin present way link ap...  __class__0\n",
       "\n",
       "[417227 rows x 2 columns]"
      ]
     },
     "execution_count": 74,
     "metadata": {},
     "output_type": "execute_result"
    }
   ],
   "source": [
    "train"
   ]
  },
  {
   "cell_type": "code",
   "execution_count": 92,
   "id": "bad1ba8a",
   "metadata": {},
   "outputs": [
    {
     "data": {
      "application/vnd.jupyter.widget-view+json": {
       "model_id": "dee536b9d0f3422d84142643afa203f9",
       "version_major": 2,
       "version_minor": 0
      },
      "text/plain": [
       "  0%|          | 0/417227 [00:00<?, ?it/s]"
      ]
     },
     "metadata": {},
     "output_type": "display_data"
    }
   ],
   "source": [
    "train_txt2 = train.text.progress_apply(\n",
    "    lambda x: np.mean([w2v_model.wv[item] for item in x.split() if item in w2v_model.wv.index_to_key], axis=0)\n",
    ")"
   ]
  },
  {
   "cell_type": "code",
   "execution_count": null,
   "id": "25cab4ae",
   "metadata": {},
   "outputs": [
    {
     "data": {
      "application/vnd.jupyter.widget-view+json": {
       "model_id": "8259bf9d079f462b9254b8d3be924c06",
       "version_major": 2,
       "version_minor": 0
      },
      "text/plain": [
       "  0%|          | 0/417227 [00:00<?, ?it/s]"
      ]
     },
     "metadata": {},
     "output_type": "display_data"
    }
   ],
   "source": [
    "train_txt3 = train.text.progress_apply(\n",
    "    lambda x: ' '.join(x)\n",
    ").str.split(expand=True)"
   ]
  },
  {
   "cell_type": "code",
   "execution_count": null,
   "id": "5d637c1b",
   "metadata": {},
   "outputs": [],
   "source": [
    "train_txt3"
   ]
  },
  {
   "cell_type": "code",
   "execution_count": 104,
   "id": "a49162a3",
   "metadata": {},
   "outputs": [
    {
     "data": {
      "text/plain": [
       "121201     [-0.23504572, -0.1628289, 0.07194646, 0.027465...\n",
       "163241     [-0.095541336, 0.05911652, 0.0073583988, 0.075...\n",
       "50445      [-0.10781052, -0.034164272, -0.079355605, 0.08...\n",
       "1280502    [-0.14773302, 0.038502842, 0.023217581, 0.1152...\n",
       "460979     [-0.06673203, -0.058793295, -0.027792728, 0.07...\n",
       "                                 ...                        \n",
       "1812328    [-0.0793452, 0.020325162, -0.068323314, 0.0504...\n",
       "28091      [-0.20081818, 0.044199284, -0.006461583, 0.107...\n",
       "203154     [-0.070924684, 0.06855943, -0.008553401, 0.093...\n",
       "718369     [-0.11128843, 0.018442681, -0.036585573, 0.139...\n",
       "87521      [-0.12610173, 0.042943902, -0.049508166, 0.045...\n",
       "Name: text, Length: 417227, dtype: object"
      ]
     },
     "execution_count": 104,
     "metadata": {},
     "output_type": "execute_result"
    }
   ],
   "source": [
    "pd.DataFrame(train_txt2).text"
   ]
  },
  {
   "cell_type": "code",
   "execution_count": 101,
   "id": "2383a0c3",
   "metadata": {},
   "outputs": [
    {
     "data": {
      "text/html": [
       "<div>\n",
       "<style scoped>\n",
       "    .dataframe tbody tr th:only-of-type {\n",
       "        vertical-align: middle;\n",
       "    }\n",
       "\n",
       "    .dataframe tbody tr th {\n",
       "        vertical-align: top;\n",
       "    }\n",
       "\n",
       "    .dataframe thead th {\n",
       "        text-align: right;\n",
       "    }\n",
       "</style>\n",
       "<table border=\"1\" class=\"dataframe\">\n",
       "  <thead>\n",
       "    <tr style=\"text-align: right;\">\n",
       "      <th></th>\n",
       "      <th>text</th>\n",
       "    </tr>\n",
       "  </thead>\n",
       "  <tbody>\n",
       "    <tr>\n",
       "      <th>121201</th>\n",
       "      <td>[-0.23504572, -0.1628289, 0.07194646, 0.027465...</td>\n",
       "    </tr>\n",
       "    <tr>\n",
       "      <th>163241</th>\n",
       "      <td>[-0.095541336, 0.05911652, 0.0073583988, 0.075...</td>\n",
       "    </tr>\n",
       "    <tr>\n",
       "      <th>50445</th>\n",
       "      <td>[-0.10781052, -0.034164272, -0.079355605, 0.08...</td>\n",
       "    </tr>\n",
       "    <tr>\n",
       "      <th>1280502</th>\n",
       "      <td>[-0.14773302, 0.038502842, 0.023217581, 0.1152...</td>\n",
       "    </tr>\n",
       "    <tr>\n",
       "      <th>460979</th>\n",
       "      <td>[-0.06673203, -0.058793295, -0.027792728, 0.07...</td>\n",
       "    </tr>\n",
       "    <tr>\n",
       "      <th>...</th>\n",
       "      <td>...</td>\n",
       "    </tr>\n",
       "    <tr>\n",
       "      <th>1812328</th>\n",
       "      <td>[-0.0793452, 0.020325162, -0.068323314, 0.0504...</td>\n",
       "    </tr>\n",
       "    <tr>\n",
       "      <th>28091</th>\n",
       "      <td>[-0.20081818, 0.044199284, -0.006461583, 0.107...</td>\n",
       "    </tr>\n",
       "    <tr>\n",
       "      <th>203154</th>\n",
       "      <td>[-0.070924684, 0.06855943, -0.008553401, 0.093...</td>\n",
       "    </tr>\n",
       "    <tr>\n",
       "      <th>718369</th>\n",
       "      <td>[-0.11128843, 0.018442681, -0.036585573, 0.139...</td>\n",
       "    </tr>\n",
       "    <tr>\n",
       "      <th>87521</th>\n",
       "      <td>[-0.12610173, 0.042943902, -0.049508166, 0.045...</td>\n",
       "    </tr>\n",
       "  </tbody>\n",
       "</table>\n",
       "<p>417227 rows × 1 columns</p>\n",
       "</div>"
      ],
      "text/plain": [
       "                                                      text\n",
       "121201   [-0.23504572, -0.1628289, 0.07194646, 0.027465...\n",
       "163241   [-0.095541336, 0.05911652, 0.0073583988, 0.075...\n",
       "50445    [-0.10781052, -0.034164272, -0.079355605, 0.08...\n",
       "1280502  [-0.14773302, 0.038502842, 0.023217581, 0.1152...\n",
       "460979   [-0.06673203, -0.058793295, -0.027792728, 0.07...\n",
       "...                                                    ...\n",
       "1812328  [-0.0793452, 0.020325162, -0.068323314, 0.0504...\n",
       "28091    [-0.20081818, 0.044199284, -0.006461583, 0.107...\n",
       "203154   [-0.070924684, 0.06855943, -0.008553401, 0.093...\n",
       "718369   [-0.11128843, 0.018442681, -0.036585573, 0.139...\n",
       "87521    [-0.12610173, 0.042943902, -0.049508166, 0.045...\n",
       "\n",
       "[417227 rows x 1 columns]"
      ]
     },
     "execution_count": 101,
     "metadata": {},
     "output_type": "execute_result"
    }
   ],
   "source": [
    "pd.DataFrame(train_txt2)"
   ]
  },
  {
   "cell_type": "code",
   "execution_count": 97,
   "id": "22f146b8",
   "metadata": {},
   "outputs": [
    {
     "ename": "ValueError",
     "evalue": "setting an array element with a sequence.",
     "output_type": "error",
     "traceback": [
      "\u001b[1;31m---------------------------------------------------------------------------\u001b[0m",
      "\u001b[1;31mTypeError\u001b[0m                                 Traceback (most recent call last)",
      "\u001b[1;31mTypeError\u001b[0m: only size-1 arrays can be converted to Python scalars",
      "\nThe above exception was the direct cause of the following exception:\n",
      "\u001b[1;31mValueError\u001b[0m                                Traceback (most recent call last)",
      "\u001b[1;32m~\\AppData\\Local\\Temp/ipykernel_1500/1805860663.py\u001b[0m in \u001b[0;36m<module>\u001b[1;34m\u001b[0m\n\u001b[0;32m      4\u001b[0m     \u001b[0msolver\u001b[0m\u001b[1;33m=\u001b[0m\u001b[1;34m'liblinear'\u001b[0m\u001b[1;33m\u001b[0m\u001b[1;33m\u001b[0m\u001b[0m\n\u001b[0;32m      5\u001b[0m )\n\u001b[1;32m----> 6\u001b[1;33m \u001b[0mlog_model2\u001b[0m\u001b[1;33m.\u001b[0m\u001b[0mfit\u001b[0m\u001b[1;33m(\u001b[0m\u001b[0mtrain_txt2\u001b[0m\u001b[1;33m,\u001b[0m \u001b[0my_train\u001b[0m\u001b[1;33m)\u001b[0m\u001b[1;33m\u001b[0m\u001b[1;33m\u001b[0m\u001b[0m\n\u001b[0m",
      "\u001b[1;32mE:\\anaconda3\\lib\\site-packages\\sklearn\\linear_model\\_logistic.py\u001b[0m in \u001b[0;36mfit\u001b[1;34m(self, X, y, sample_weight)\u001b[0m\n\u001b[0;32m   1342\u001b[0m             \u001b[0m_dtype\u001b[0m \u001b[1;33m=\u001b[0m \u001b[1;33m[\u001b[0m\u001b[0mnp\u001b[0m\u001b[1;33m.\u001b[0m\u001b[0mfloat64\u001b[0m\u001b[1;33m,\u001b[0m \u001b[0mnp\u001b[0m\u001b[1;33m.\u001b[0m\u001b[0mfloat32\u001b[0m\u001b[1;33m]\u001b[0m\u001b[1;33m\u001b[0m\u001b[1;33m\u001b[0m\u001b[0m\n\u001b[0;32m   1343\u001b[0m \u001b[1;33m\u001b[0m\u001b[0m\n\u001b[1;32m-> 1344\u001b[1;33m         X, y = self._validate_data(X, y, accept_sparse='csr', dtype=_dtype,\n\u001b[0m\u001b[0;32m   1345\u001b[0m                                    \u001b[0morder\u001b[0m\u001b[1;33m=\u001b[0m\u001b[1;34m\"C\"\u001b[0m\u001b[1;33m,\u001b[0m\u001b[1;33m\u001b[0m\u001b[1;33m\u001b[0m\u001b[0m\n\u001b[0;32m   1346\u001b[0m                                    accept_large_sparse=solver != 'liblinear')\n",
      "\u001b[1;32mE:\\anaconda3\\lib\\site-packages\\sklearn\\base.py\u001b[0m in \u001b[0;36m_validate_data\u001b[1;34m(self, X, y, reset, validate_separately, **check_params)\u001b[0m\n\u001b[0;32m    431\u001b[0m                 \u001b[0my\u001b[0m \u001b[1;33m=\u001b[0m \u001b[0mcheck_array\u001b[0m\u001b[1;33m(\u001b[0m\u001b[0my\u001b[0m\u001b[1;33m,\u001b[0m \u001b[1;33m**\u001b[0m\u001b[0mcheck_y_params\u001b[0m\u001b[1;33m)\u001b[0m\u001b[1;33m\u001b[0m\u001b[1;33m\u001b[0m\u001b[0m\n\u001b[0;32m    432\u001b[0m             \u001b[1;32melse\u001b[0m\u001b[1;33m:\u001b[0m\u001b[1;33m\u001b[0m\u001b[1;33m\u001b[0m\u001b[0m\n\u001b[1;32m--> 433\u001b[1;33m                 \u001b[0mX\u001b[0m\u001b[1;33m,\u001b[0m \u001b[0my\u001b[0m \u001b[1;33m=\u001b[0m \u001b[0mcheck_X_y\u001b[0m\u001b[1;33m(\u001b[0m\u001b[0mX\u001b[0m\u001b[1;33m,\u001b[0m \u001b[0my\u001b[0m\u001b[1;33m,\u001b[0m \u001b[1;33m**\u001b[0m\u001b[0mcheck_params\u001b[0m\u001b[1;33m)\u001b[0m\u001b[1;33m\u001b[0m\u001b[1;33m\u001b[0m\u001b[0m\n\u001b[0m\u001b[0;32m    434\u001b[0m             \u001b[0mout\u001b[0m \u001b[1;33m=\u001b[0m \u001b[0mX\u001b[0m\u001b[1;33m,\u001b[0m \u001b[0my\u001b[0m\u001b[1;33m\u001b[0m\u001b[1;33m\u001b[0m\u001b[0m\n\u001b[0;32m    435\u001b[0m \u001b[1;33m\u001b[0m\u001b[0m\n",
      "\u001b[1;32mE:\\anaconda3\\lib\\site-packages\\sklearn\\utils\\validation.py\u001b[0m in \u001b[0;36minner_f\u001b[1;34m(*args, **kwargs)\u001b[0m\n\u001b[0;32m     61\u001b[0m             \u001b[0mextra_args\u001b[0m \u001b[1;33m=\u001b[0m \u001b[0mlen\u001b[0m\u001b[1;33m(\u001b[0m\u001b[0margs\u001b[0m\u001b[1;33m)\u001b[0m \u001b[1;33m-\u001b[0m \u001b[0mlen\u001b[0m\u001b[1;33m(\u001b[0m\u001b[0mall_args\u001b[0m\u001b[1;33m)\u001b[0m\u001b[1;33m\u001b[0m\u001b[1;33m\u001b[0m\u001b[0m\n\u001b[0;32m     62\u001b[0m             \u001b[1;32mif\u001b[0m \u001b[0mextra_args\u001b[0m \u001b[1;33m<=\u001b[0m \u001b[1;36m0\u001b[0m\u001b[1;33m:\u001b[0m\u001b[1;33m\u001b[0m\u001b[1;33m\u001b[0m\u001b[0m\n\u001b[1;32m---> 63\u001b[1;33m                 \u001b[1;32mreturn\u001b[0m \u001b[0mf\u001b[0m\u001b[1;33m(\u001b[0m\u001b[1;33m*\u001b[0m\u001b[0margs\u001b[0m\u001b[1;33m,\u001b[0m \u001b[1;33m**\u001b[0m\u001b[0mkwargs\u001b[0m\u001b[1;33m)\u001b[0m\u001b[1;33m\u001b[0m\u001b[1;33m\u001b[0m\u001b[0m\n\u001b[0m\u001b[0;32m     64\u001b[0m \u001b[1;33m\u001b[0m\u001b[0m\n\u001b[0;32m     65\u001b[0m             \u001b[1;31m# extra_args > 0\u001b[0m\u001b[1;33m\u001b[0m\u001b[1;33m\u001b[0m\u001b[0m\n",
      "\u001b[1;32mE:\\anaconda3\\lib\\site-packages\\sklearn\\utils\\validation.py\u001b[0m in \u001b[0;36mcheck_X_y\u001b[1;34m(X, y, accept_sparse, accept_large_sparse, dtype, order, copy, force_all_finite, ensure_2d, allow_nd, multi_output, ensure_min_samples, ensure_min_features, y_numeric, estimator)\u001b[0m\n\u001b[0;32m    869\u001b[0m         \u001b[1;32mraise\u001b[0m \u001b[0mValueError\u001b[0m\u001b[1;33m(\u001b[0m\u001b[1;34m\"y cannot be None\"\u001b[0m\u001b[1;33m)\u001b[0m\u001b[1;33m\u001b[0m\u001b[1;33m\u001b[0m\u001b[0m\n\u001b[0;32m    870\u001b[0m \u001b[1;33m\u001b[0m\u001b[0m\n\u001b[1;32m--> 871\u001b[1;33m     X = check_array(X, accept_sparse=accept_sparse,\n\u001b[0m\u001b[0;32m    872\u001b[0m                     \u001b[0maccept_large_sparse\u001b[0m\u001b[1;33m=\u001b[0m\u001b[0maccept_large_sparse\u001b[0m\u001b[1;33m,\u001b[0m\u001b[1;33m\u001b[0m\u001b[1;33m\u001b[0m\u001b[0m\n\u001b[0;32m    873\u001b[0m                     \u001b[0mdtype\u001b[0m\u001b[1;33m=\u001b[0m\u001b[0mdtype\u001b[0m\u001b[1;33m,\u001b[0m \u001b[0morder\u001b[0m\u001b[1;33m=\u001b[0m\u001b[0morder\u001b[0m\u001b[1;33m,\u001b[0m \u001b[0mcopy\u001b[0m\u001b[1;33m=\u001b[0m\u001b[0mcopy\u001b[0m\u001b[1;33m,\u001b[0m\u001b[1;33m\u001b[0m\u001b[1;33m\u001b[0m\u001b[0m\n",
      "\u001b[1;32mE:\\anaconda3\\lib\\site-packages\\sklearn\\utils\\validation.py\u001b[0m in \u001b[0;36minner_f\u001b[1;34m(*args, **kwargs)\u001b[0m\n\u001b[0;32m     61\u001b[0m             \u001b[0mextra_args\u001b[0m \u001b[1;33m=\u001b[0m \u001b[0mlen\u001b[0m\u001b[1;33m(\u001b[0m\u001b[0margs\u001b[0m\u001b[1;33m)\u001b[0m \u001b[1;33m-\u001b[0m \u001b[0mlen\u001b[0m\u001b[1;33m(\u001b[0m\u001b[0mall_args\u001b[0m\u001b[1;33m)\u001b[0m\u001b[1;33m\u001b[0m\u001b[1;33m\u001b[0m\u001b[0m\n\u001b[0;32m     62\u001b[0m             \u001b[1;32mif\u001b[0m \u001b[0mextra_args\u001b[0m \u001b[1;33m<=\u001b[0m \u001b[1;36m0\u001b[0m\u001b[1;33m:\u001b[0m\u001b[1;33m\u001b[0m\u001b[1;33m\u001b[0m\u001b[0m\n\u001b[1;32m---> 63\u001b[1;33m                 \u001b[1;32mreturn\u001b[0m \u001b[0mf\u001b[0m\u001b[1;33m(\u001b[0m\u001b[1;33m*\u001b[0m\u001b[0margs\u001b[0m\u001b[1;33m,\u001b[0m \u001b[1;33m**\u001b[0m\u001b[0mkwargs\u001b[0m\u001b[1;33m)\u001b[0m\u001b[1;33m\u001b[0m\u001b[1;33m\u001b[0m\u001b[0m\n\u001b[0m\u001b[0;32m     64\u001b[0m \u001b[1;33m\u001b[0m\u001b[0m\n\u001b[0;32m     65\u001b[0m             \u001b[1;31m# extra_args > 0\u001b[0m\u001b[1;33m\u001b[0m\u001b[1;33m\u001b[0m\u001b[0m\n",
      "\u001b[1;32mE:\\anaconda3\\lib\\site-packages\\sklearn\\utils\\validation.py\u001b[0m in \u001b[0;36mcheck_array\u001b[1;34m(array, accept_sparse, accept_large_sparse, dtype, order, copy, force_all_finite, ensure_2d, allow_nd, ensure_min_samples, ensure_min_features, estimator)\u001b[0m\n\u001b[0;32m    671\u001b[0m                     \u001b[0marray\u001b[0m \u001b[1;33m=\u001b[0m \u001b[0marray\u001b[0m\u001b[1;33m.\u001b[0m\u001b[0mastype\u001b[0m\u001b[1;33m(\u001b[0m\u001b[0mdtype\u001b[0m\u001b[1;33m,\u001b[0m \u001b[0mcasting\u001b[0m\u001b[1;33m=\u001b[0m\u001b[1;34m\"unsafe\"\u001b[0m\u001b[1;33m,\u001b[0m \u001b[0mcopy\u001b[0m\u001b[1;33m=\u001b[0m\u001b[1;32mFalse\u001b[0m\u001b[1;33m)\u001b[0m\u001b[1;33m\u001b[0m\u001b[1;33m\u001b[0m\u001b[0m\n\u001b[0;32m    672\u001b[0m                 \u001b[1;32melse\u001b[0m\u001b[1;33m:\u001b[0m\u001b[1;33m\u001b[0m\u001b[1;33m\u001b[0m\u001b[0m\n\u001b[1;32m--> 673\u001b[1;33m                     \u001b[0marray\u001b[0m \u001b[1;33m=\u001b[0m \u001b[0mnp\u001b[0m\u001b[1;33m.\u001b[0m\u001b[0masarray\u001b[0m\u001b[1;33m(\u001b[0m\u001b[0marray\u001b[0m\u001b[1;33m,\u001b[0m \u001b[0morder\u001b[0m\u001b[1;33m=\u001b[0m\u001b[0morder\u001b[0m\u001b[1;33m,\u001b[0m \u001b[0mdtype\u001b[0m\u001b[1;33m=\u001b[0m\u001b[0mdtype\u001b[0m\u001b[1;33m)\u001b[0m\u001b[1;33m\u001b[0m\u001b[1;33m\u001b[0m\u001b[0m\n\u001b[0m\u001b[0;32m    674\u001b[0m             \u001b[1;32mexcept\u001b[0m \u001b[0mComplexWarning\u001b[0m \u001b[1;32mas\u001b[0m \u001b[0mcomplex_warning\u001b[0m\u001b[1;33m:\u001b[0m\u001b[1;33m\u001b[0m\u001b[1;33m\u001b[0m\u001b[0m\n\u001b[0;32m    675\u001b[0m                 raise ValueError(\"Complex data not supported\\n\"\n",
      "\u001b[1;32mE:\\anaconda3\\lib\\site-packages\\numpy\\core\\_asarray.py\u001b[0m in \u001b[0;36masarray\u001b[1;34m(a, dtype, order, like)\u001b[0m\n\u001b[0;32m    100\u001b[0m         \u001b[1;32mreturn\u001b[0m \u001b[0m_asarray_with_like\u001b[0m\u001b[1;33m(\u001b[0m\u001b[0ma\u001b[0m\u001b[1;33m,\u001b[0m \u001b[0mdtype\u001b[0m\u001b[1;33m=\u001b[0m\u001b[0mdtype\u001b[0m\u001b[1;33m,\u001b[0m \u001b[0morder\u001b[0m\u001b[1;33m=\u001b[0m\u001b[0morder\u001b[0m\u001b[1;33m,\u001b[0m \u001b[0mlike\u001b[0m\u001b[1;33m=\u001b[0m\u001b[0mlike\u001b[0m\u001b[1;33m)\u001b[0m\u001b[1;33m\u001b[0m\u001b[1;33m\u001b[0m\u001b[0m\n\u001b[0;32m    101\u001b[0m \u001b[1;33m\u001b[0m\u001b[0m\n\u001b[1;32m--> 102\u001b[1;33m     \u001b[1;32mreturn\u001b[0m \u001b[0marray\u001b[0m\u001b[1;33m(\u001b[0m\u001b[0ma\u001b[0m\u001b[1;33m,\u001b[0m \u001b[0mdtype\u001b[0m\u001b[1;33m,\u001b[0m \u001b[0mcopy\u001b[0m\u001b[1;33m=\u001b[0m\u001b[1;32mFalse\u001b[0m\u001b[1;33m,\u001b[0m \u001b[0morder\u001b[0m\u001b[1;33m=\u001b[0m\u001b[0morder\u001b[0m\u001b[1;33m)\u001b[0m\u001b[1;33m\u001b[0m\u001b[1;33m\u001b[0m\u001b[0m\n\u001b[0m\u001b[0;32m    103\u001b[0m \u001b[1;33m\u001b[0m\u001b[0m\n\u001b[0;32m    104\u001b[0m \u001b[1;33m\u001b[0m\u001b[0m\n",
      "\u001b[1;32mE:\\anaconda3\\lib\\site-packages\\pandas\\core\\series.py\u001b[0m in \u001b[0;36m__array__\u001b[1;34m(self, dtype)\u001b[0m\n\u001b[0;32m    870\u001b[0m               dtype='datetime64[ns]')\n\u001b[0;32m    871\u001b[0m         \"\"\"\n\u001b[1;32m--> 872\u001b[1;33m         \u001b[1;32mreturn\u001b[0m \u001b[0mnp\u001b[0m\u001b[1;33m.\u001b[0m\u001b[0masarray\u001b[0m\u001b[1;33m(\u001b[0m\u001b[0mself\u001b[0m\u001b[1;33m.\u001b[0m\u001b[0m_values\u001b[0m\u001b[1;33m,\u001b[0m \u001b[0mdtype\u001b[0m\u001b[1;33m)\u001b[0m\u001b[1;33m\u001b[0m\u001b[1;33m\u001b[0m\u001b[0m\n\u001b[0m\u001b[0;32m    873\u001b[0m \u001b[1;33m\u001b[0m\u001b[0m\n\u001b[0;32m    874\u001b[0m     \u001b[1;31m# ----------------------------------------------------------------------\u001b[0m\u001b[1;33m\u001b[0m\u001b[1;33m\u001b[0m\u001b[0m\n",
      "\u001b[1;32mE:\\anaconda3\\lib\\site-packages\\numpy\\core\\_asarray.py\u001b[0m in \u001b[0;36masarray\u001b[1;34m(a, dtype, order, like)\u001b[0m\n\u001b[0;32m    100\u001b[0m         \u001b[1;32mreturn\u001b[0m \u001b[0m_asarray_with_like\u001b[0m\u001b[1;33m(\u001b[0m\u001b[0ma\u001b[0m\u001b[1;33m,\u001b[0m \u001b[0mdtype\u001b[0m\u001b[1;33m=\u001b[0m\u001b[0mdtype\u001b[0m\u001b[1;33m,\u001b[0m \u001b[0morder\u001b[0m\u001b[1;33m=\u001b[0m\u001b[0morder\u001b[0m\u001b[1;33m,\u001b[0m \u001b[0mlike\u001b[0m\u001b[1;33m=\u001b[0m\u001b[0mlike\u001b[0m\u001b[1;33m)\u001b[0m\u001b[1;33m\u001b[0m\u001b[1;33m\u001b[0m\u001b[0m\n\u001b[0;32m    101\u001b[0m \u001b[1;33m\u001b[0m\u001b[0m\n\u001b[1;32m--> 102\u001b[1;33m     \u001b[1;32mreturn\u001b[0m \u001b[0marray\u001b[0m\u001b[1;33m(\u001b[0m\u001b[0ma\u001b[0m\u001b[1;33m,\u001b[0m \u001b[0mdtype\u001b[0m\u001b[1;33m,\u001b[0m \u001b[0mcopy\u001b[0m\u001b[1;33m=\u001b[0m\u001b[1;32mFalse\u001b[0m\u001b[1;33m,\u001b[0m \u001b[0morder\u001b[0m\u001b[1;33m=\u001b[0m\u001b[0morder\u001b[0m\u001b[1;33m)\u001b[0m\u001b[1;33m\u001b[0m\u001b[1;33m\u001b[0m\u001b[0m\n\u001b[0m\u001b[0;32m    103\u001b[0m \u001b[1;33m\u001b[0m\u001b[0m\n\u001b[0;32m    104\u001b[0m \u001b[1;33m\u001b[0m\u001b[0m\n",
      "\u001b[1;31mValueError\u001b[0m: setting an array element with a sequence."
     ]
    }
   ],
   "source": [
    "log_model2 = LogisticRegression(\n",
    "    C=4.281332398719396, \n",
    "    penalty='l1',\n",
    "    solver='liblinear'\n",
    ")\n",
    "log_model2.fit(train_txt2, y_train)"
   ]
  },
  {
   "cell_type": "code",
   "execution_count": null,
   "id": "2a6817d8",
   "metadata": {},
   "outputs": [],
   "source": [
    "get_score(train_txt2, y_train, log_model2)"
   ]
  },
  {
   "cell_type": "code",
   "execution_count": null,
   "id": "e4876da1",
   "metadata": {},
   "outputs": [],
   "source": [
    "# model.build_vocab(clean_sents, update=True)\n",
    "# model.train(clean_sents, total_examples=model.corpus_count, epochs=5)"
   ]
  },
  {
   "cell_type": "markdown",
   "id": "f0a2600b",
   "metadata": {},
   "source": [
    "# Best Model"
   ]
  },
  {
   "cell_type": "code",
   "execution_count": 35,
   "id": "a9cd184d",
   "metadata": {},
   "outputs": [
    {
     "data": {
      "text/plain": [
       "{'log_model': 0.9284148189569119,\n",
       " 'xgb_model': 0.9097135944942707,\n",
       " 'fasttext_model': 0.5684943738289889}"
      ]
     },
     "execution_count": 35,
     "metadata": {},
     "output_type": "execute_result"
    }
   ],
   "source": [
    "models"
   ]
  },
  {
   "cell_type": "code",
   "execution_count": 36,
   "id": "e044af27",
   "metadata": {},
   "outputs": [
    {
     "data": {
      "text/plain": [
       "'log_model'"
      ]
     },
     "execution_count": 36,
     "metadata": {},
     "output_type": "execute_result"
    }
   ],
   "source": [
    "best_model = max(models, key=models.get)\n",
    "best_model"
   ]
  },
  {
   "cell_type": "code",
   "execution_count": 39,
   "id": "a28396c7",
   "metadata": {},
   "outputs": [],
   "source": [
    "# Сохраним модель\n",
    "with open(MODEL_PATH + 'log_pipeline.pickle', 'wb') as f:\n",
    "    pkl.dump(log_pipeline, f)"
   ]
  },
  {
   "cell_type": "code",
   "execution_count": 27,
   "id": "1a021213",
   "metadata": {},
   "outputs": [],
   "source": [
    "# Сохраним словарь частоты слов\n",
    "with open(MODEL_PATH + 'models/vocab.pickle', 'wb') as f:\n",
    "    pkl.dump(vocab, f)"
   ]
  }
 ],
 "metadata": {
  "kernelspec": {
   "display_name": "Python 3",
   "language": "python",
   "name": "python3"
  },
  "language_info": {
   "codemirror_mode": {
    "name": "ipython",
    "version": 3
   },
   "file_extension": ".py",
   "mimetype": "text/x-python",
   "name": "python",
   "nbconvert_exporter": "python",
   "pygments_lexer": "ipython3",
   "version": "3.8.8"
  }
 },
 "nbformat": 4,
 "nbformat_minor": 5
}
